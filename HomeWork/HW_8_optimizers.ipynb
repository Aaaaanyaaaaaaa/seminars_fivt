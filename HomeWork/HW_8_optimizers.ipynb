{
  "nbformat": 4,
  "nbformat_minor": 0,
  "metadata": {
    "colab": {
      "name": "HW_8_optimizers.ipynb",
      "provenance": []
    },
    "kernelspec": {
      "name": "python3",
      "display_name": "Python 3"
    },
    "language_info": {
      "name": "python"
    }
  },
  "cells": [
    {
      "cell_type": "code",
      "metadata": {
        "id": "l9wYIkQ-ce3P"
      },
      "source": [
        "import torch\n",
        "import torch.nn as nn\n",
        "import torch.nn.functional as F\n",
        "import torch.optim as optim\n",
        "\n",
        "from sklearn.datasets import  make_classification\n",
        "from sklearn.model_selection import train_test_split\n",
        "\n",
        "import matplotlib.pyplot as plt\n",
        "import seaborn as sns\n",
        "import numpy as np\n",
        "from IPython import display\n",
        "\n",
        "import copy\n",
        "import random\n",
        "import time"
      ],
      "execution_count": 65,
      "outputs": []
    },
    {
      "cell_type": "markdown",
      "metadata": {
        "id": "4STdwi8a83J3"
      },
      "source": [
        "Это игрушечно -исследовательское задание\n",
        "Перед Вами задача бинарной классификации. Как модель мы будем использывать двуслойный перцептрон.\n",
        "Изучите, как отрабатывают различные оптимизаторы на этой задаче. Обязательно попробовать  Adam, RMSProp, SGD, L-BFGS. Другие тоже можно\n",
        "\n",
        "Сделать выводы по полученным результатам."
      ]
    },
    {
      "cell_type": "code",
      "metadata": {
        "id": "T0b2Y74Req0L"
      },
      "source": [
        "#  Делаем рандомную задачу бинарной классификации. По умолчанию make_classification порождает объект с 20 признаками. \n",
        "# Это значение можно варьировать. И его надо подавать как input_size в моддель\n",
        "X, Y = make_classification(n_samples=200)\n",
        "\n",
        "# Делим выборку на обучающую и тестовую\n",
        "X_train, X_test, y_train, y_test = train_test_split( X, Y, test_size=0.2, random_state=42)\n",
        "\n",
        "# перегоняем все в торч\n",
        "x_train = torch.FloatTensor(X_train)\n",
        "y_train = torch.FloatTensor(y_train)\n",
        "\n",
        "x_test = torch.FloatTensor(X_test)\n",
        "y_test = torch.FloatTensor(y_test)"
      ],
      "execution_count": 66,
      "outputs": []
    },
    {
      "cell_type": "code",
      "metadata": {
        "colab": {
          "base_uri": "https://localhost:8080/"
        },
        "id": "IOvqQx-QvbRc",
        "outputId": "5dfc7622-abd2-424b-a028-9e066f497249"
      },
      "source": [
        "x_train.shape, x_test.shape, y_train.shape, y_test.shape"
      ],
      "execution_count": 67,
      "outputs": [
        {
          "output_type": "execute_result",
          "data": {
            "text/plain": [
              "(torch.Size([160, 20]),\n",
              " torch.Size([40, 20]),\n",
              " torch.Size([160]),\n",
              " torch.Size([40]))"
            ]
          },
          "metadata": {},
          "execution_count": 67
        }
      ]
    },
    {
      "cell_type": "code",
      "metadata": {
        "id": "2X9sBOfMgCyP"
      },
      "source": [
        "# Cтроим простой перцептрончик: Один линейный слой потом Релу (что это такое, кстати?=)), еще линейный слой и сигмоиду, которая будет выдавать вероятности классов\n",
        "# hidden size можно варьировать. input_size - кол-во признаков в объекте\n",
        "\n",
        "class MLP(torch.nn.Module):\n",
        "    def __init__(self, input_size, hidden_size):\n",
        "        super(MLP, self).__init__()\n",
        "        self.input_size = input_size\n",
        "        self.hidden_size  = hidden_size\n",
        "\n",
        "        self.linear1 = torch.nn.Linear(self.input_size, self.hidden_size)\n",
        "        self.relu = torch.nn.ReLU()\n",
        "        self.linear2 = torch.nn.Linear(self.hidden_size, 1)\n",
        "        self.sigmoid = torch.nn.Sigmoid()\n",
        "        \n",
        "    def forward(self, x):\n",
        "        hidden = self.linear1(x)\n",
        "        relu = self.relu(hidden)\n",
        "        output = self.linear2(relu)\n",
        "        output = self.sigmoid(output)\n",
        "        return output"
      ],
      "execution_count": 68,
      "outputs": []
    },
    {
      "cell_type": "code",
      "metadata": {
        "id": "NSpJbJG4gahc"
      },
      "source": [
        "# модель\n",
        "model = MLP(20, 10)\n",
        "\n",
        "# Критерий/ функция потерь\n",
        "criterion = torch.nn.BCELoss()\n",
        "\n",
        " # Оптимизаторы. Можете потыкать все из торча. обязательно Adam, RMSProp, SGD, L-BFGS\n",
        "optimizer = ..."
      ],
      "execution_count": 69,
      "outputs": []
    },
    {
      "cell_type": "code",
      "metadata": {
        "colab": {
          "base_uri": "https://localhost:8080/",
          "height": 431
        },
        "id": "4KhIZAuRzZLw",
        "outputId": "4585261b-0fca-4bc4-df69-e52077b0bcd3"
      },
      "source": [
        "\n",
        "sns.set()\n",
        "# колво эпох. Меняйте\n",
        "n_epochs = 200 \n",
        "\n",
        "# размер батча. Тоже меняйте если хотите\n",
        "batch_size = 8 \n",
        "\n",
        "epoch_array = []\n",
        "epoch_test_array = []\n",
        "for epoch in range(n_epochs):\n",
        "    \n",
        "    # Тут игрушечный пример как делить на батчи\n",
        "    permutation = torch.randperm(x_train.size()[0])\n",
        "    loss_array = []\n",
        "\n",
        "    model.train()\n",
        "    for i in range(0,x_train.size()[0], batch_size):\n",
        "\n",
        "        #  your code here \n",
        "        ....\n",
        "\n",
        "        # Бьем на батчи. В таком мигрушечном примере это не обязательно, но мы будем делать все по феншую\n",
        "        indices = permutation[i:i+batch_size]\n",
        "        batch_x, batch_y = x_train[indices], y_train[indices]\n",
        "\n",
        "        # Считаем лосс и добавляем его значение в массив\n",
        "        outputs = model.forward(batch_x)\n",
        "        loss = criterion(outputs.squeeze(), batch_y)\n",
        "        \n",
        "        loss_array.append(loss.item())\n",
        "        loss.backward()\n",
        "\n",
        "\n",
        "        #  your code here \n",
        "        ....\n",
        "\n",
        "\n",
        "    # Будем проверять как отрабатывает модель на тестовом датасете (ЗАЧЕМ?)\n",
        "    # ТАк еж разбиваем на батчи, считаем лосс, но веса модели не обновляем\n",
        "    test_permutation = torch.randperm(x_test.size()[0])\n",
        "    loss_test_array = []\n",
        "    model.eval()\n",
        "    for i in range(0,x_test.size()[0], batch_size):\n",
        "\n",
        "        indices = test_permutation[i:i+batch_size]\n",
        "        batch_x, batch_y = x_test[indices], y_test[indices]\n",
        "        outputs = model.forward(batch_x)\n",
        "        loss = criterion(outputs.squeeze(), batch_y)\n",
        "        loss_test_array.append(loss.item())\n",
        "\n",
        "    # усредняем лосс на обучении и тесте по эпохе  и выводим график\n",
        "    epoch_array.append(np.mean(loss_array))\n",
        "    epoch_test_array.append(np.mean(loss_test_array))\n",
        "\n",
        "    display.clear_output(wait=True)\n",
        "    plt.figure(figsize =(12, 7))\n",
        "    plt.plot(epoch_array, label =\"TRAIN\")\n",
        "    plt.plot(epoch_test_array, label =\"TEST\")\n",
        "    plt.legend(loc=\"best\", fontsize=20)\n",
        "    plt.show()"
      ],
      "execution_count": 70,
      "outputs": [
        {
          "output_type": "display_data",
          "data": {
            "image/png": "[encoded data removed]",
            "text/plain": [
              "<Figure size 864x504 with 1 Axes>"
            ]
          },
          "metadata": {}
        }
      ]
    },
    {
      "cell_type": "markdown",
      "metadata": {
        "id": "gAr-w3dH8XER"
      },
      "source": [
        "ОПИШИТЕ ПОЛУЧЕНННЫЕ РЕЗУЛЬТАТЫ"
      ]
    },
    {
      "cell_type": "code",
      "metadata": {
        "id": "DlxkALms6YaC"
      },
      "source": [
        ""
      ],
      "execution_count": null,
      "outputs": []
    }
  ]
}